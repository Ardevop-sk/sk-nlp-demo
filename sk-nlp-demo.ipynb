{
  "nbformat": 4,
  "nbformat_minor": 0,
  "metadata": {
    "colab": {
      "name": "Untitled1.ipynb",
      "provenance": [],
      "authorship_tag": "ABX9TyP/B/Yut7FgakL+yoEYt/qt",
      "include_colab_link": true
    },
    "kernelspec": {
      "name": "python3",
      "display_name": "Python 3"
    }
  },
  "cells": [
    {
      "cell_type": "markdown",
      "metadata": {
        "id": "view-in-github",
        "colab_type": "text"
      },
      "source": [
        "<a href=\"https://colab.research.google.com/github/Ardevop-sk/sk-nlp-demo/blob/master/sk-nlp-demo.ipynb\" target=\"_parent\"><img src=\"https://colab.research.google.com/assets/colab-badge.svg\" alt=\"Open In Colab\"/></a>"
      ]
    },
    {
      "cell_type": "markdown",
      "metadata": {
        "id": "2yIpwMTnJzTt",
        "colab_type": "text"
      },
      "source": [
        "# Slovak NLP demo\n",
        "In this demo colab sheet, we will use python implementation of standfordnlp to do:\n",
        "- Sentence segmentation\n",
        "- Tokenization\n",
        "- Lemmatization\n",
        "- POS Tagging\n",
        "- Dependency parsing"
      ]
    },
    {
      "cell_type": "code",
      "metadata": {
        "id": "wRwkq8tOJyro",
        "colab_type": "code",
        "colab": {
          "base_uri": "https://localhost:8080/",
          "height": 289
        },
        "outputId": "d1a3cfcc-2e2e-4adc-b553-5f83a6cb900e"
      },
      "source": [
        "pip install stanfordnlp"
      ],
      "execution_count": 1,
      "outputs": [
        {
          "output_type": "stream",
          "text": [
            "Collecting stanfordnlp\n",
            "\u001b[?25l  Downloading https://files.pythonhosted.org/packages/41/bf/5d2898febb6e993fcccd90484cba3c46353658511a41430012e901824e94/stanfordnlp-0.2.0-py3-none-any.whl (158kB)\n",
            "\r\u001b[K     |██                              | 10kB 18.5MB/s eta 0:00:01\r\u001b[K     |████▏                           | 20kB 1.8MB/s eta 0:00:01\r\u001b[K     |██████▏                         | 30kB 2.4MB/s eta 0:00:01\r\u001b[K     |████████▎                       | 40kB 1.7MB/s eta 0:00:01\r\u001b[K     |██████████▎                     | 51kB 1.9MB/s eta 0:00:01\r\u001b[K     |████████████▍                   | 61kB 2.3MB/s eta 0:00:01\r\u001b[K     |██████████████▌                 | 71kB 2.5MB/s eta 0:00:01\r\u001b[K     |████████████████▌               | 81kB 2.7MB/s eta 0:00:01\r\u001b[K     |██████████████████▋             | 92kB 3.0MB/s eta 0:00:01\r\u001b[K     |████████████████████▋           | 102kB 2.9MB/s eta 0:00:01\r\u001b[K     |██████████████████████▊         | 112kB 2.9MB/s eta 0:00:01\r\u001b[K     |████████████████████████▊       | 122kB 2.9MB/s eta 0:00:01\r\u001b[K     |██████████████████████████▉     | 133kB 2.9MB/s eta 0:00:01\r\u001b[K     |█████████████████████████████   | 143kB 2.9MB/s eta 0:00:01\r\u001b[K     |███████████████████████████████ | 153kB 2.9MB/s eta 0:00:01\r\u001b[K     |████████████████████████████████| 163kB 2.9MB/s \n",
            "\u001b[?25hRequirement already satisfied: protobuf in /usr/local/lib/python3.6/dist-packages (from stanfordnlp) (3.10.0)\n",
            "Requirement already satisfied: tqdm in /usr/local/lib/python3.6/dist-packages (from stanfordnlp) (4.28.1)\n",
            "Requirement already satisfied: torch>=1.0.0 in /usr/local/lib/python3.6/dist-packages (from stanfordnlp) (1.4.0)\n",
            "Requirement already satisfied: numpy in /usr/local/lib/python3.6/dist-packages (from stanfordnlp) (1.17.5)\n",
            "Requirement already satisfied: requests in /usr/local/lib/python3.6/dist-packages (from stanfordnlp) (2.21.0)\n",
            "Requirement already satisfied: six>=1.9 in /usr/local/lib/python3.6/dist-packages (from protobuf->stanfordnlp) (1.12.0)\n",
            "Requirement already satisfied: setuptools in /usr/local/lib/python3.6/dist-packages (from protobuf->stanfordnlp) (45.1.0)\n",
            "Requirement already satisfied: certifi>=2017.4.17 in /usr/local/lib/python3.6/dist-packages (from requests->stanfordnlp) (2019.11.28)\n",
            "Requirement already satisfied: urllib3<1.25,>=1.21.1 in /usr/local/lib/python3.6/dist-packages (from requests->stanfordnlp) (1.24.3)\n",
            "Requirement already satisfied: idna<2.9,>=2.5 in /usr/local/lib/python3.6/dist-packages (from requests->stanfordnlp) (2.8)\n",
            "Requirement already satisfied: chardet<3.1.0,>=3.0.2 in /usr/local/lib/python3.6/dist-packages (from requests->stanfordnlp) (3.0.4)\n",
            "Installing collected packages: stanfordnlp\n",
            "Successfully installed stanfordnlp-0.2.0\n"
          ],
          "name": "stdout"
        }
      ]
    },
    {
      "cell_type": "code",
      "metadata": {
        "id": "xTvv3dp7KUCm",
        "colab_type": "code",
        "colab": {
          "base_uri": "https://localhost:8080/",
          "height": 272
        },
        "outputId": "c884f099-551b-4199-b5bd-8da3409ecfbf"
      },
      "source": [
        "import stanfordnlp\n",
        "\n",
        "stanfordnlp.download('sk')"
      ],
      "execution_count": 2,
      "outputs": [
        {
          "output_type": "stream",
          "text": [
            "Using the default treebank \"sk_snk\" for language \"sk\".\n",
            "Would you like to download the models for: sk_snk now? (Y/n)\n",
            "Y\n",
            "\n",
            "Default download directory: /root/stanfordnlp_resources\n",
            "Hit enter to continue or type an alternate directory.\n",
            "\n",
            "\n",
            "Downloading models for: sk_snk\n",
            "Download location: /root/stanfordnlp_resources/sk_snk_models.zip\n"
          ],
          "name": "stdout"
        },
        {
          "output_type": "stream",
          "text": [
            "100%|██████████| 228M/228M [01:26<00:00, 3.02MB/s]\n"
          ],
          "name": "stderr"
        },
        {
          "output_type": "stream",
          "text": [
            "\n",
            "Download complete.  Models saved to: /root/stanfordnlp_resources/sk_snk_models.zip\n",
            "Extracting models file for: sk_snk\n",
            "Cleaning up...Done.\n"
          ],
          "name": "stdout"
        }
      ]
    },
    {
      "cell_type": "code",
      "metadata": {
        "id": "Y1EJHPm3KQU5",
        "colab_type": "code",
        "colab": {
          "base_uri": "https://localhost:8080/",
          "height": 1000
        },
        "outputId": "774e5250-18b7-412c-c08c-844ae5edf400"
      },
      "source": [
        "import stanfordnlp\n",
        "\n",
        "nlp = stanfordnlp.Pipeline(lang='sk')\n",
        "doc = nlp(\"Filip Bednárik sa narodil na Slovensku. Nebol zvolený za prezidenta v roku 2008.\")\n",
        "\n",
        "for sentence in doc.sentences:\n",
        "  sentence.print_dependencies()\n",
        "  sentence.print_tokens()\n",
        "  sentence.print_words()"
      ],
      "execution_count": 3,
      "outputs": [
        {
          "output_type": "stream",
          "text": [
            "Use device: cpu\n",
            "---\n",
            "Loading: tokenize\n",
            "With settings: \n",
            "{'model_path': '/root/stanfordnlp_resources/sk_snk_models/sk_snk_tokenizer.pt', 'lang': 'sk', 'shorthand': 'sk_snk', 'mode': 'predict'}\n",
            "---\n",
            "Loading: pos\n",
            "With settings: \n",
            "{'model_path': '/root/stanfordnlp_resources/sk_snk_models/sk_snk_tagger.pt', 'pretrain_path': '/root/stanfordnlp_resources/sk_snk_models/sk_snk.pretrain.pt', 'lang': 'sk', 'shorthand': 'sk_snk', 'mode': 'predict'}\n",
            "---\n",
            "Loading: lemma\n",
            "With settings: \n",
            "{'model_path': '/root/stanfordnlp_resources/sk_snk_models/sk_snk_lemmatizer.pt', 'lang': 'sk', 'shorthand': 'sk_snk', 'mode': 'predict'}\n",
            "Building an attentional Seq2Seq model...\n",
            "Using a Bi-LSTM encoder\n",
            "Using soft attention for LSTM.\n",
            "Finetune all embeddings.\n",
            "[Running seq2seq lemmatizer with edit classifier]\n",
            "---\n",
            "Loading: depparse\n",
            "With settings: \n",
            "{'model_path': '/root/stanfordnlp_resources/sk_snk_models/sk_snk_parser.pt', 'pretrain_path': '/root/stanfordnlp_resources/sk_snk_models/sk_snk.pretrain.pt', 'lang': 'sk', 'shorthand': 'sk_snk', 'mode': 'predict'}\n",
            "Done loading processors!\n",
            "---\n",
            "('Filip', '0', 'root')\n",
            "<Token index=1;words=[<Word index=1;text=Filip;lemma=filip;upos=PROPN;xpos=SSms1:r;feats=Animacy=Anim|Case=Nom|Gender=Masc|Number=Sing;governor=0;dependency_relation=root>]>\n",
            "<Word index=1;text=Filip;lemma=filip;upos=PROPN;xpos=SSms1:r;feats=Animacy=Anim|Case=Nom|Gender=Masc|Number=Sing;governor=0;dependency_relation=root>\n",
            "('Bednárik', '3', 'nsubj')\n",
            "('sa', '3', 'expl:pv')\n",
            "('narodil', '0', 'root')\n",
            "('na', '5', 'case')\n",
            "('Slovensku', '3', 'obl')\n",
            "('.', '3', 'punct')\n",
            "<Token index=1;words=[<Word index=1;text=Bednárik;lemma=bednárik;upos=PROPN;xpos=SSms1:r;feats=Animacy=Anim|Case=Nom|Gender=Masc|Number=Sing;governor=3;dependency_relation=nsubj>]>\n",
            "<Token index=2;words=[<Word index=2;text=sa;lemma=sa;upos=PRON;xpos=R;feats=PronType=Prs|Reflex=Yes;governor=3;dependency_relation=expl:pv>]>\n",
            "<Token index=3;words=[<Word index=3;text=narodil;lemma=narodiť;upos=VERB;xpos=VLdscm+;feats=Animacy=Anim|Aspect=Perf|Gender=Masc|Number=Sing|Polarity=Pos|Tense=Past|VerbForm=Part;governor=0;dependency_relation=root>]>\n",
            "<Token index=4;words=[<Word index=4;text=na;lemma=na;upos=ADP;xpos=Eu6;feats=AdpType=Prep|Case=Loc;governor=5;dependency_relation=case>]>\n",
            "<Token index=5;words=[<Word index=5;text=Slovensku;lemma=slovensko;upos=PROPN;xpos=SSns6:r;feats=Case=Loc|Gender=Neut|Number=Sing;governor=3;dependency_relation=obl>]>\n",
            "<Token index=6;words=[<Word index=6;text=.;lemma=.;upos=PUNCT;xpos=Z;feats=_;governor=3;dependency_relation=punct>]>\n",
            "<Word index=1;text=Bednárik;lemma=bednárik;upos=PROPN;xpos=SSms1:r;feats=Animacy=Anim|Case=Nom|Gender=Masc|Number=Sing;governor=3;dependency_relation=nsubj>\n",
            "<Word index=2;text=sa;lemma=sa;upos=PRON;xpos=R;feats=PronType=Prs|Reflex=Yes;governor=3;dependency_relation=expl:pv>\n",
            "<Word index=3;text=narodil;lemma=narodiť;upos=VERB;xpos=VLdscm+;feats=Animacy=Anim|Aspect=Perf|Gender=Masc|Number=Sing|Polarity=Pos|Tense=Past|VerbForm=Part;governor=0;dependency_relation=root>\n",
            "<Word index=4;text=na;lemma=na;upos=ADP;xpos=Eu6;feats=AdpType=Prep|Case=Loc;governor=5;dependency_relation=case>\n",
            "<Word index=5;text=Slovensku;lemma=slovensko;upos=PROPN;xpos=SSns6:r;feats=Case=Loc|Gender=Neut|Number=Sing;governor=3;dependency_relation=obl>\n",
            "<Word index=6;text=.;lemma=.;upos=PUNCT;xpos=Z;feats=_;governor=3;dependency_relation=punct>\n",
            "('Nebol', '2', 'aux:pass')\n",
            "('zvolený', '0', 'root')\n",
            "('za', '4', 'case')\n",
            "('prezidenta', '2', 'obl')\n",
            "('v', '6', 'case')\n",
            "('roku', '4', 'nmod')\n",
            "('2008', '6', 'nummod')\n",
            "('.', '2', 'punct')\n",
            "<Token index=1;words=[<Word index=1;text=Nebol;lemma=byť;upos=AUX;xpos=VLesci-;feats=Animacy=Anim|Aspect=Imp|Gender=Masc|Number=Sing|Polarity=Neg|Tense=Past|VerbForm=Part;governor=2;dependency_relation=aux:pass>]>\n",
            "<Token index=2;words=[<Word index=2;text=zvolený;lemma=zvolený;upos=ADJ;xpos=Gtms1x;feats=Animacy=Anim|Case=Nom|Degree=Pos|Gender=Masc|Number=Sing|Polarity=Pos|VerbForm=Part|Voice=Pass;governor=0;dependency_relation=root>]>\n",
            "<Token index=3;words=[<Word index=3;text=za;lemma=za;upos=ADP;xpos=Eu4;feats=AdpType=Prep|Case=Acc;governor=4;dependency_relation=case>]>\n",
            "<Token index=4;words=[<Word index=4;text=prezidenta;lemma=prezident;upos=NOUN;xpos=SSms2;feats=Animacy=Anim|Case=Gen|Gender=Masc|Number=Sing;governor=2;dependency_relation=obl>]>\n",
            "<Token index=5;words=[<Word index=5;text=v;lemma=v;upos=ADP;xpos=Eu6;feats=AdpType=Prep|Case=Loc;governor=6;dependency_relation=case>]>\n",
            "<Token index=6;words=[<Word index=6;text=roku;lemma=rok;upos=NOUN;xpos=SSis6;feats=Animacy=Inan|Case=Loc|Gender=Masc|Number=Sing;governor=4;dependency_relation=nmod>]>\n",
            "<Token index=7;words=[<Word index=7;text=2008;lemma=2008;upos=NUM;xpos=0;feats=NumForm=Digit;governor=6;dependency_relation=nummod>]>\n",
            "<Token index=8;words=[<Word index=8;text=.;lemma=.;upos=PUNCT;xpos=ZIP;feats=_;governor=2;dependency_relation=punct>]>\n",
            "<Word index=1;text=Nebol;lemma=byť;upos=AUX;xpos=VLesci-;feats=Animacy=Anim|Aspect=Imp|Gender=Masc|Number=Sing|Polarity=Neg|Tense=Past|VerbForm=Part;governor=2;dependency_relation=aux:pass>\n",
            "<Word index=2;text=zvolený;lemma=zvolený;upos=ADJ;xpos=Gtms1x;feats=Animacy=Anim|Case=Nom|Degree=Pos|Gender=Masc|Number=Sing|Polarity=Pos|VerbForm=Part|Voice=Pass;governor=0;dependency_relation=root>\n",
            "<Word index=3;text=za;lemma=za;upos=ADP;xpos=Eu4;feats=AdpType=Prep|Case=Acc;governor=4;dependency_relation=case>\n",
            "<Word index=4;text=prezidenta;lemma=prezident;upos=NOUN;xpos=SSms2;feats=Animacy=Anim|Case=Gen|Gender=Masc|Number=Sing;governor=2;dependency_relation=obl>\n",
            "<Word index=5;text=v;lemma=v;upos=ADP;xpos=Eu6;feats=AdpType=Prep|Case=Loc;governor=6;dependency_relation=case>\n",
            "<Word index=6;text=roku;lemma=rok;upos=NOUN;xpos=SSis6;feats=Animacy=Inan|Case=Loc|Gender=Masc|Number=Sing;governor=4;dependency_relation=nmod>\n",
            "<Word index=7;text=2008;lemma=2008;upos=NUM;xpos=0;feats=NumForm=Digit;governor=6;dependency_relation=nummod>\n",
            "<Word index=8;text=.;lemma=.;upos=PUNCT;xpos=ZIP;feats=_;governor=2;dependency_relation=punct>\n"
          ],
          "name": "stdout"
        },
        {
          "output_type": "stream",
          "text": [
            "/pytorch/aten/src/ATen/native/LegacyDefinitions.cpp:19: UserWarning: masked_fill_ received a mask with dtype torch.uint8, this behavior is now deprecated,please use a mask with dtype torch.bool instead.\n"
          ],
          "name": "stderr"
        }
      ]
    }
  ]
}